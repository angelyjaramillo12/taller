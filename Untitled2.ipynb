{
  "nbformat": 4,
  "nbformat_minor": 0,
  "metadata": {
    "colab": {
      "provenance": [],
      "authorship_tag": "ABX9TyO1JbL9abpp3ANlk4MxnOom",
      "include_colab_link": true
    },
    "kernelspec": {
      "name": "python3",
      "display_name": "Python 3"
    },
    "language_info": {
      "name": "python"
    }
  },
  "cells": [
    {
      "cell_type": "markdown",
      "metadata": {
        "id": "view-in-github",
        "colab_type": "text"
      },
      "source": [
        "<a href=\"https://colab.research.google.com/github/angelyjaramillo12/taller/blob/main/Untitled2.ipynb\" target=\"_parent\"><img src=\"https://colab.research.google.com/assets/colab-badge.svg\" alt=\"Open In Colab\"/></a>"
      ]
    },
    {
      "cell_type": "markdown",
      "source": [
        "### Taller 4: Estructura selectiva doble (if-else)\n",
        "\n",
        "Angely Jaramillo - ID: 000499571\n",
        "\n",
        "Email: angely.jaramillo@upb.edu.co"
      ],
      "metadata": {
        "id": "ONro5oFfF2WC"
      }
    },
    {
      "cell_type": "code",
      "source": [
        "calificacion = float(input(\"ingresa tu calificacion numerica (de 0 a 5): \"))\n",
        "\n",
        "if calificacion >= 3:\n",
        "  print(\"usted a aprobado el curso, ¡felicitaciones!\")\n",
        "\n",
        "else : print(\"lo siento, usted a reprobado el curso\")"
      ],
      "metadata": {
        "colab": {
          "base_uri": "https://localhost:8080/"
        },
        "id": "E_tM8pZsGX7R",
        "outputId": "74a98d3f-5297-4104-f4d2-4798103dd060"
      },
      "execution_count": 1,
      "outputs": [
        {
          "output_type": "stream",
          "name": "stdout",
          "text": [
            "ingresa tu calificacion numerica (de 0 a 5): 4.1\n",
            "usted a aprobado el curso, ¡felicitaciones!\n"
          ]
        }
      ]
    },
    {
      "cell_type": "code",
      "source": [
        "numero = float(input(\"ingresa un numero: \"))\n",
        "if numero >= 0:\n",
        "  print(\"el numero es positivo\")\n",
        "else : print(\"el numero es negativo\")"
      ],
      "metadata": {
        "colab": {
          "base_uri": "https://localhost:8080/"
        },
        "id": "SAJQfgchGZX1",
        "outputId": "86f98a7e-c5dc-4efc-e347-93dd40c5177f"
      },
      "execution_count": 2,
      "outputs": [
        {
          "output_type": "stream",
          "name": "stdout",
          "text": [
            "ingresa un numero: 4\n",
            "el numero es positivo\n"
          ]
        }
      ]
    },
    {
      "cell_type": "code",
      "source": [
        "contraseña = input(\"ingrese tu contraseña: \")\n",
        "if contraseña == \"angelyjaramillo\":\n",
        "  print(\"la contraseña validá\")\n",
        "\n",
        "else : print(\"la contraseña incorrecta\")"
      ],
      "metadata": {
        "colab": {
          "base_uri": "https://localhost:8080/"
        },
        "id": "RjYxh97OGfhc",
        "outputId": "4c4038dc-753f-424f-ad18-beec110950ec"
      },
      "execution_count": 3,
      "outputs": [
        {
          "output_type": "stream",
          "name": "stdout",
          "text": [
            "ingrese tu contraseña: angelyjaramillo\n",
            "la contraseña validá\n"
          ]
        }
      ]
    },
    {
      "cell_type": "code",
      "source": [
        "numero = float(input(\"ingresa un numero: \"))\n",
        "if numero % 2 == 0:\n",
        "  print(\"el numero es par\")\n",
        "\n",
        "else : print(\"el numero es impar\")"
      ],
      "metadata": {
        "colab": {
          "base_uri": "https://localhost:8080/"
        },
        "id": "-AEqAe7uGnuG",
        "outputId": "f09ecbb5-3174-42f0-ebf5-47e0f7808fd1"
      },
      "execution_count": 4,
      "outputs": [
        {
          "output_type": "stream",
          "name": "stdout",
          "text": [
            "ingresa un numero: 31\n",
            "el numero es impar\n"
          ]
        }
      ]
    },
    {
      "cell_type": "code",
      "source": [
        "Numero1 = float(input(\"ingresa un numero: \"))\n",
        "Numero2 = float(input(\"ingresa un numero: \"))\n",
        "Numero3 = float(input(\"ingresa un numero: \"))\n",
        "Numero4 = float(input(\"ingresa un numero: \"))\n",
        "Numero5 = float(input(\"ingresa un numero: \"))\n",
        "\n",
        "mayor = Numero1\n",
        "\n",
        "if Numero2 > mayor:\n",
        "    mayor = Numero2\n",
        "\n",
        "if Numero3 > mayor:\n",
        "    mayor = Numero3\n",
        "\n",
        "if Numero4 > mayor:\n",
        "    mayor = Numero4\n",
        "\n",
        "if Numero5 > mayor:\n",
        "    mayor = Numero5\n",
        "\n",
        "print(\"El número mayor es:\",mayor)"
      ],
      "metadata": {
        "colab": {
          "base_uri": "https://localhost:8080/"
        },
        "id": "lk2pZDjRGtWa",
        "outputId": "99ecb565-8776-4207-c196-8aed6939cad2"
      },
      "execution_count": 5,
      "outputs": [
        {
          "output_type": "stream",
          "name": "stdout",
          "text": [
            "ingresa un numero: 3\n",
            "ingresa un numero: 1\n",
            "ingresa un numero: 67\n",
            "ingresa un numero: 4\n",
            "ingresa un numero: 5\n",
            "El número mayor es: 67.0\n"
          ]
        }
      ]
    },
    {
      "cell_type": "code",
      "source": [
        "edad = int(input(\"Ingrese su edad: \"))\n",
        "\n",
        "if edad <= 12:\n",
        "    categoria = \"Niño\"\n",
        "elif edad <= 19:\n",
        "    categoria = \"Adolescente\"\n",
        "elif edad <= 64:\n",
        "    categoria = \"Adulto\"\n",
        "else:\n",
        "    categoria = \"Adulto Mayor\"\n",
        "\n",
        "print(\"Usted se encuentra en la categoría:\", categoria)"
      ],
      "metadata": {
        "colab": {
          "base_uri": "https://localhost:8080/"
        },
        "id": "4OhXyO__G6kC",
        "outputId": "67a244a9-94fc-4b55-b5f5-292040b5323d"
      },
      "execution_count": 6,
      "outputs": [
        {
          "output_type": "stream",
          "name": "stdout",
          "text": [
            "Ingrese su edad: 19\n",
            "Usted se encuentra en la categoría: Adolescente\n"
          ]
        }
      ]
    }
  ]
}